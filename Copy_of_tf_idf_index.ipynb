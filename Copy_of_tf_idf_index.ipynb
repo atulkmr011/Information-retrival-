{
  "nbformat": 4,
  "nbformat_minor": 0,
  "metadata": {
    "colab": {
      "name": "Copy of tf-idf index",
      "provenance": [],
      "collapsed_sections": [],
      "toc_visible": true
    },
    "kernelspec": {
      "name": "python3",
      "display_name": "Python 3"
    }
  },
  "cells": [
    {
      "cell_type": "markdown",
      "metadata": {
        "id": "EH58NDPSTNKl"
      },
      "source": [
        "# Upload corpus \n",
        "upload the corpus file (title_author.tab.txt.gz)"
      ]
    },
    {
      "cell_type": "code",
      "metadata": {
        "id": "Sp7S2d4tagAS",
        "colab": {
          "resources": {
            "http://localhost:8080/nbextensions/google.colab/files.js": {
              "data": "Ly8gQ29weXJpZ2h0IDIwMTcgR29vZ2xlIExMQwovLwovLyBMaWNlbnNlZCB1bmRlciB0aGUgQXBhY2hlIExpY2Vuc2UsIFZlcnNpb24gMi4wICh0aGUgIkxpY2Vuc2UiKTsKLy8geW91IG1heSBub3QgdXNlIHRoaXMgZmlsZSBleGNlcHQgaW4gY29tcGxpYW5jZSB3aXRoIHRoZSBMaWNlbnNlLgovLyBZb3UgbWF5IG9idGFpbiBhIGNvcHkgb2YgdGhlIExpY2Vuc2UgYXQKLy8KLy8gICAgICBodHRwOi8vd3d3LmFwYWNoZS5vcmcvbGljZW5zZXMvTElDRU5TRS0yLjAKLy8KLy8gVW5sZXNzIHJlcXVpcmVkIGJ5IGFwcGxpY2FibGUgbGF3IG9yIGFncmVlZCB0byBpbiB3cml0aW5nLCBzb2Z0d2FyZQovLyBkaXN0cmlidXRlZCB1bmRlciB0aGUgTGljZW5zZSBpcyBkaXN0cmlidXRlZCBvbiBhbiAiQVMgSVMiIEJBU0lTLAovLyBXSVRIT1VUIFdBUlJBTlRJRVMgT1IgQ09ORElUSU9OUyBPRiBBTlkgS0lORCwgZWl0aGVyIGV4cHJlc3Mgb3IgaW1wbGllZC4KLy8gU2VlIHRoZSBMaWNlbnNlIGZvciB0aGUgc3BlY2lmaWMgbGFuZ3VhZ2UgZ292ZXJuaW5nIHBlcm1pc3Npb25zIGFuZAovLyBsaW1pdGF0aW9ucyB1bmRlciB0aGUgTGljZW5zZS4KCi8qKgogKiBAZmlsZW92ZXJ2aWV3IEhlbHBlcnMgZm9yIGdvb2dsZS5jb2xhYiBQeXRob24gbW9kdWxlLgogKi8KKGZ1bmN0aW9uKHNjb3BlKSB7CmZ1bmN0aW9uIHNwYW4odGV4dCwgc3R5bGVBdHRyaWJ1dGVzID0ge30pIHsKICBjb25zdCBlbGVtZW50ID0gZG9jdW1lbnQuY3JlYXRlRWxlbWVudCgnc3BhbicpOwogIGVsZW1lbnQudGV4dENvbnRlbnQgPSB0ZXh0OwogIGZvciAoY29uc3Qga2V5IG9mIE9iamVjdC5rZXlzKHN0eWxlQXR0cmlidXRlcykpIHsKICAgIGVsZW1lbnQuc3R5bGVba2V5XSA9IHN0eWxlQXR0cmlidXRlc1trZXldOwogIH0KICByZXR1cm4gZWxlbWVudDsKfQoKLy8gTWF4IG51bWJlciBvZiBieXRlcyB3aGljaCB3aWxsIGJlIHVwbG9hZGVkIGF0IGEgdGltZS4KY29uc3QgTUFYX1BBWUxPQURfU0laRSA9IDEwMCAqIDEwMjQ7CgpmdW5jdGlvbiBfdXBsb2FkRmlsZXMoaW5wdXRJZCwgb3V0cHV0SWQpIHsKICBjb25zdCBzdGVwcyA9IHVwbG9hZEZpbGVzU3RlcChpbnB1dElkLCBvdXRwdXRJZCk7CiAgY29uc3Qgb3V0cHV0RWxlbWVudCA9IGRvY3VtZW50LmdldEVsZW1lbnRCeUlkKG91dHB1dElkKTsKICAvLyBDYWNoZSBzdGVwcyBvbiB0aGUgb3V0cHV0RWxlbWVudCB0byBtYWtlIGl0IGF2YWlsYWJsZSBmb3IgdGhlIG5leHQgY2FsbAogIC8vIHRvIHVwbG9hZEZpbGVzQ29udGludWUgZnJvbSBQeXRob24uCiAgb3V0cHV0RWxlbWVudC5zdGVwcyA9IHN0ZXBzOwoKICByZXR1cm4gX3VwbG9hZEZpbGVzQ29udGludWUob3V0cHV0SWQpOwp9CgovLyBUaGlzIGlzIHJvdWdobHkgYW4gYXN5bmMgZ2VuZXJhdG9yIChub3Qgc3VwcG9ydGVkIGluIHRoZSBicm93c2VyIHlldCksCi8vIHdoZXJlIHRoZXJlIGFyZSBtdWx0aXBsZSBhc3luY2hyb25vdXMgc3RlcHMgYW5kIHRoZSBQeXRob24gc2lkZSBpcyBnb2luZwovLyB0byBwb2xsIGZvciBjb21wbGV0aW9uIG9mIGVhY2ggc3RlcC4KLy8gVGhpcyB1c2VzIGEgUHJvbWlzZSB0byBibG9jayB0aGUgcHl0aG9uIHNpZGUgb24gY29tcGxldGlvbiBvZiBlYWNoIHN0ZXAsCi8vIHRoZW4gcGFzc2VzIHRoZSByZXN1bHQgb2YgdGhlIHByZXZpb3VzIHN0ZXAgYXMgdGhlIGlucHV0IHRvIHRoZSBuZXh0IHN0ZXAuCmZ1bmN0aW9uIF91cGxvYWRGaWxlc0NvbnRpbnVlKG91dHB1dElkKSB7CiAgY29uc3Qgb3V0cHV0RWxlbWVudCA9IGRvY3VtZW50LmdldEVsZW1lbnRCeUlkKG91dHB1dElkKTsKICBjb25zdCBzdGVwcyA9IG91dHB1dEVsZW1lbnQuc3RlcHM7CgogIGNvbnN0IG5leHQgPSBzdGVwcy5uZXh0KG91dHB1dEVsZW1lbnQubGFzdFByb21pc2VWYWx1ZSk7CiAgcmV0dXJuIFByb21pc2UucmVzb2x2ZShuZXh0LnZhbHVlLnByb21pc2UpLnRoZW4oKHZhbHVlKSA9PiB7CiAgICAvLyBDYWNoZSB0aGUgbGFzdCBwcm9taXNlIHZhbHVlIHRvIG1ha2UgaXQgYXZhaWxhYmxlIHRvIHRoZSBuZXh0CiAgICAvLyBzdGVwIG9mIHRoZSBnZW5lcmF0b3IuCiAgICBvdXRwdXRFbGVtZW50Lmxhc3RQcm9taXNlVmFsdWUgPSB2YWx1ZTsKICAgIHJldHVybiBuZXh0LnZhbHVlLnJlc3BvbnNlOwogIH0pOwp9CgovKioKICogR2VuZXJhdG9yIGZ1bmN0aW9uIHdoaWNoIGlzIGNhbGxlZCBiZXR3ZWVuIGVhY2ggYXN5bmMgc3RlcCBvZiB0aGUgdXBsb2FkCiAqIHByb2Nlc3MuCiAqIEBwYXJhbSB7c3RyaW5nfSBpbnB1dElkIEVsZW1lbnQgSUQgb2YgdGhlIGlucHV0IGZpbGUgcGlja2VyIGVsZW1lbnQuCiAqIEBwYXJhbSB7c3RyaW5nfSBvdXRwdXRJZCBFbGVtZW50IElEIG9mIHRoZSBvdXRwdXQgZGlzcGxheS4KICogQHJldHVybiB7IUl0ZXJhYmxlPCFPYmplY3Q+fSBJdGVyYWJsZSBvZiBuZXh0IHN0ZXBzLgogKi8KZnVuY3Rpb24qIHVwbG9hZEZpbGVzU3RlcChpbnB1dElkLCBvdXRwdXRJZCkgewogIGNvbnN0IGlucHV0RWxlbWVudCA9IGRvY3VtZW50LmdldEVsZW1lbnRCeUlkKGlucHV0SWQpOwogIGlucHV0RWxlbWVudC5kaXNhYmxlZCA9IGZhbHNlOwoKICBjb25zdCBvdXRwdXRFbGVtZW50ID0gZG9jdW1lbnQuZ2V0RWxlbWVudEJ5SWQob3V0cHV0SWQpOwogIG91dHB1dEVsZW1lbnQuaW5uZXJIVE1MID0gJyc7CgogIGNvbnN0IHBpY2tlZFByb21pc2UgPSBuZXcgUHJvbWlzZSgocmVzb2x2ZSkgPT4gewogICAgaW5wdXRFbGVtZW50LmFkZEV2ZW50TGlzdGVuZXIoJ2NoYW5nZScsIChlKSA9PiB7CiAgICAgIHJlc29sdmUoZS50YXJnZXQuZmlsZXMpOwogICAgfSk7CiAgfSk7CgogIGNvbnN0IGNhbmNlbCA9IGRvY3VtZW50LmNyZWF0ZUVsZW1lbnQoJ2J1dHRvbicpOwogIGlucHV0RWxlbWVudC5wYXJlbnRFbGVtZW50LmFwcGVuZENoaWxkKGNhbmNlbCk7CiAgY2FuY2VsLnRleHRDb250ZW50ID0gJ0NhbmNlbCB1cGxvYWQnOwogIGNvbnN0IGNhbmNlbFByb21pc2UgPSBuZXcgUHJvbWlzZSgocmVzb2x2ZSkgPT4gewogICAgY2FuY2VsLm9uY2xpY2sgPSAoKSA9PiB7CiAgICAgIHJlc29sdmUobnVsbCk7CiAgICB9OwogIH0pOwoKICAvLyBXYWl0IGZvciB0aGUgdXNlciB0byBwaWNrIHRoZSBmaWxlcy4KICBjb25zdCBmaWxlcyA9IHlpZWxkIHsKICAgIHByb21pc2U6IFByb21pc2UucmFjZShbcGlja2VkUHJvbWlzZSwgY2FuY2VsUHJvbWlzZV0pLAogICAgcmVzcG9uc2U6IHsKICAgICAgYWN0aW9uOiAnc3RhcnRpbmcnLAogICAgfQogIH07CgogIGNhbmNlbC5yZW1vdmUoKTsKCiAgLy8gRGlzYWJsZSB0aGUgaW5wdXQgZWxlbWVudCBzaW5jZSBmdXJ0aGVyIHBpY2tzIGFyZSBub3QgYWxsb3dlZC4KICBpbnB1dEVsZW1lbnQuZGlzYWJsZWQgPSB0cnVlOwoKICBpZiAoIWZpbGVzKSB7CiAgICByZXR1cm4gewogICAgICByZXNwb25zZTogewogICAgICAgIGFjdGlvbjogJ2NvbXBsZXRlJywKICAgICAgfQogICAgfTsKICB9CgogIGZvciAoY29uc3QgZmlsZSBvZiBmaWxlcykgewogICAgY29uc3QgbGkgPSBkb2N1bWVudC5jcmVhdGVFbGVtZW50KCdsaScpOwogICAgbGkuYXBwZW5kKHNwYW4oZmlsZS5uYW1lLCB7Zm9udFdlaWdodDogJ2JvbGQnfSkpOwogICAgbGkuYXBwZW5kKHNwYW4oCiAgICAgICAgYCgke2ZpbGUudHlwZSB8fCAnbi9hJ30pIC0gJHtmaWxlLnNpemV9IGJ5dGVzLCBgICsKICAgICAgICBgbGFzdCBtb2RpZmllZDogJHsKICAgICAgICAgICAgZmlsZS5sYXN0TW9kaWZpZWREYXRlID8gZmlsZS5sYXN0TW9kaWZpZWREYXRlLnRvTG9jYWxlRGF0ZVN0cmluZygpIDoKICAgICAgICAgICAgICAgICAgICAgICAgICAgICAgICAgICAgJ24vYSd9IC0gYCkpOwogICAgY29uc3QgcGVyY2VudCA9IHNwYW4oJzAlIGRvbmUnKTsKICAgIGxpLmFwcGVuZENoaWxkKHBlcmNlbnQpOwoKICAgIG91dHB1dEVsZW1lbnQuYXBwZW5kQ2hpbGQobGkpOwoKICAgIGNvbnN0IGZpbGVEYXRhUHJvbWlzZSA9IG5ldyBQcm9taXNlKChyZXNvbHZlKSA9PiB7CiAgICAgIGNvbnN0IHJlYWRlciA9IG5ldyBGaWxlUmVhZGVyKCk7CiAgICAgIHJlYWRlci5vbmxvYWQgPSAoZSkgPT4gewogICAgICAgIHJlc29sdmUoZS50YXJnZXQucmVzdWx0KTsKICAgICAgfTsKICAgICAgcmVhZGVyLnJlYWRBc0FycmF5QnVmZmVyKGZpbGUpOwogICAgfSk7CiAgICAvLyBXYWl0IGZvciB0aGUgZGF0YSB0byBiZSByZWFkeS4KICAgIGxldCBmaWxlRGF0YSA9IHlpZWxkIHsKICAgICAgcHJvbWlzZTogZmlsZURhdGFQcm9taXNlLAogICAgICByZXNwb25zZTogewogICAgICAgIGFjdGlvbjogJ2NvbnRpbnVlJywKICAgICAgfQogICAgfTsKCiAgICAvLyBVc2UgYSBjaHVua2VkIHNlbmRpbmcgdG8gYXZvaWQgbWVzc2FnZSBzaXplIGxpbWl0cy4gU2VlIGIvNjIxMTU2NjAuCiAgICBsZXQgcG9zaXRpb24gPSAwOwogICAgd2hpbGUgKHBvc2l0aW9uIDwgZmlsZURhdGEuYnl0ZUxlbmd0aCkgewogICAgICBjb25zdCBsZW5ndGggPSBNYXRoLm1pbihmaWxlRGF0YS5ieXRlTGVuZ3RoIC0gcG9zaXRpb24sIE1BWF9QQVlMT0FEX1NJWkUpOwogICAgICBjb25zdCBjaHVuayA9IG5ldyBVaW50OEFycmF5KGZpbGVEYXRhLCBwb3NpdGlvbiwgbGVuZ3RoKTsKICAgICAgcG9zaXRpb24gKz0gbGVuZ3RoOwoKICAgICAgY29uc3QgYmFzZTY0ID0gYnRvYShTdHJpbmcuZnJvbUNoYXJDb2RlLmFwcGx5KG51bGwsIGNodW5rKSk7CiAgICAgIHlpZWxkIHsKICAgICAgICByZXNwb25zZTogewogICAgICAgICAgYWN0aW9uOiAnYXBwZW5kJywKICAgICAgICAgIGZpbGU6IGZpbGUubmFtZSwKICAgICAgICAgIGRhdGE6IGJhc2U2NCwKICAgICAgICB9LAogICAgICB9OwogICAgICBwZXJjZW50LnRleHRDb250ZW50ID0KICAgICAgICAgIGAke01hdGgucm91bmQoKHBvc2l0aW9uIC8gZmlsZURhdGEuYnl0ZUxlbmd0aCkgKiAxMDApfSUgZG9uZWA7CiAgICB9CiAgfQoKICAvLyBBbGwgZG9uZS4KICB5aWVsZCB7CiAgICByZXNwb25zZTogewogICAgICBhY3Rpb246ICdjb21wbGV0ZScsCiAgICB9CiAgfTsKfQoKc2NvcGUuZ29vZ2xlID0gc2NvcGUuZ29vZ2xlIHx8IHt9OwpzY29wZS5nb29nbGUuY29sYWIgPSBzY29wZS5nb29nbGUuY29sYWIgfHwge307CnNjb3BlLmdvb2dsZS5jb2xhYi5fZmlsZXMgPSB7CiAgX3VwbG9hZEZpbGVzLAogIF91cGxvYWRGaWxlc0NvbnRpbnVlLAp9Owp9KShzZWxmKTsK",
              "ok": true,
              "headers": [
                [
                  "content-type",
                  "application/javascript"
                ]
              ],
              "status": 200,
              "status_text": ""
            }
          },
          "base_uri": "https://localhost:8080/",
          "height": 89
        },
        "outputId": "04737620-c277-408e-9650-7861230cb67a"
      },
      "source": [
        "#upload files here\n",
        "# !rm -f small_test.txt || rm -f title_author.small.txt || true\n",
        "from google.colab import files\n",
        "files.upload()\n",
        "!gunzip title_author.tab.txt.gz || true"
      ],
      "execution_count": 53,
      "outputs": [
        {
          "output_type": "display_data",
          "data": {
            "text/html": [
              "\n",
              "     <input type=\"file\" id=\"files-b83e937f-8a65-4237-859b-3073cd297082\" name=\"files[]\" multiple disabled\n",
              "        style=\"border:none\" />\n",
              "     <output id=\"result-b83e937f-8a65-4237-859b-3073cd297082\">\n",
              "      Upload widget is only available when the cell has been executed in the\n",
              "      current browser session. Please rerun this cell to enable.\n",
              "      </output>\n",
              "      <script src=\"/nbextensions/google.colab/files.js\"></script> "
            ],
            "text/plain": [
              "<IPython.core.display.HTML object>"
            ]
          },
          "metadata": {
            "tags": []
          }
        },
        {
          "output_type": "stream",
          "text": [
            "Saving title_author.tab.txt to title_author.tab (4).txt\n",
            "gzip: title_author.tab.txt.gz: No such file or directory\n"
          ],
          "name": "stdout"
        }
      ]
    },
    {
      "cell_type": "markdown",
      "metadata": {
        "id": "UumH38KXTUlJ"
      },
      "source": [
        "# Retrieval Class using sklearn\n",
        "Execute the cell before running test"
      ]
    },
    {
      "cell_type": "code",
      "metadata": {
        "id": "yTHWZQ8iABdn"
      },
      "source": [
        "from sklearn.feature_extraction.text import CountVectorizer\n",
        "from sklearn.feature_extraction.text import TfidfTransformer\n",
        "import pandas as pd\n",
        "import numpy as np\n",
        "import fileinput, collections\n",
        "from collections import OrderedDict\n",
        "\n",
        "class TfidfRetriever(object):\n",
        "  \"\"\"TfidfRetriever class\n",
        "\n",
        "  Usage:\n",
        "  tfidfRetriever = TfidfRetriever(corpus_file_path=\"corpus.txt\")\n",
        "  tfidfRetriever.find_similar_docs('test text')\n",
        "\n",
        "  a list of relevant documents in corpus.txt will be returned.\n",
        "  Author: Uzair Ahmad\n",
        "  \"\"\"\n",
        "  def __init__(self, corpus_file_path):\n",
        "    \"\"\"Initialize TfidfRetriever object and computes the tfidf-matrix.\n",
        "\n",
        "    Parameters\n",
        "    ----------\n",
        "    ste : corpus_file_path, The file name and location of the corpus\n",
        "\n",
        "    Returns\n",
        "    -------\n",
        "    object : an object of TfidfRetriever\n",
        "    \"\"\"\n",
        "    self.corpus_file_path = corpus_file_path\n",
        "    self.__corpus = []\n",
        "    self.tf_counter = CountVectorizer()\n",
        "    self.tfidf_transformer = TfidfTransformer(smooth_idf=False, norm=None)\n",
        "    self.__compute_solution()\n",
        "\n",
        "  def find_similar_docs(self, text, top_n=10):\n",
        "    \"\"\"Vectorize input text and calculates dot-product similarity to the pre-calculated tfidf-matrix.\n",
        "    This function is visible to user.\n",
        "\n",
        "    Parameters\n",
        "    ----------\n",
        "    text : str\n",
        "        text to be searched in the corpus for similar texts\n",
        "    top_n : int\n",
        "        top n similar documents, default is 10.\n",
        "    Returns\n",
        "    -------\n",
        "    list\n",
        "        a list of similar texts in the corpus\n",
        "    \"\"\"\n",
        "    # vectorize text (1, voc_size)\n",
        "    tf_vector = self.tf_counter.transform([text])\n",
        "    # tfidf of vectorized_text\n",
        "    tfidf_vector = self.tfidf_transformer.transform(tf_vector).toarray().T\n",
        "    # dot-product similarity\n",
        "    dot_product_sim = np.squeeze( self.tf_idf_matrix.dot(tfidf_vector))\n",
        "    # index of top_n (inverted tail of argsort) in descending order\n",
        "    dot_product_sim_desc_order = np.argsort(dot_product_sim)[-top_n:][::-1] \n",
        "    # prepare list of docs corresponding top_n ordered indexes\n",
        "    return ['score:{0}, id:{1}, title: {2}, author: {3}'.format(\n",
        "        np.round(dot_product_sim[i],6), \n",
        "        self.__corpus[i].doc_id, \n",
        "        self.__corpus[i].title, \n",
        "        self.__corpus[i].author) for i in dot_product_sim_desc_order] \n",
        "  # \n",
        "  def to_df(self):\n",
        "    \"\"\"Prepares a pandas DataFrame from the pre-calculated tfidf-matrix. \n",
        "    Good for visual verification for small corpus.\n",
        "    This function is visible to user.\n",
        "\n",
        "    Parameters\n",
        "    ----------\n",
        "    \n",
        "    Returns\n",
        "    -------\n",
        "    Pandas DataFrame\n",
        "        a dataframe with unique words (vocabulary) as index. \n",
        "        First column is idf of each word. \n",
        "        Rest of the columns correspond to individual documents in the corpus.\n",
        "    \"\"\"\n",
        "    # tf_matrix, tf_idf_matrix = __compute_solution(self)\n",
        "    df = pd.DataFrame(pd.Series(self.tfidf_transformer.idf_, \n",
        "                                index=self.tf_counter.get_feature_names(), \n",
        "                                name=\"idf\"))\n",
        "    \n",
        "    for i in range(self.tf_idf_matrix.shape[0]):\n",
        "      tf = pd.Series(self.tf_matrix.toarray()[i], \n",
        "                    index=self.tf_counter.get_feature_names())\n",
        "      df[\"tf-doc\"+str(i+1)] = tf\n",
        "      tfidf = pd.Series(self.tf_idf_matrix.toarray()[i], \n",
        "                    index=self.tf_counter.get_feature_names())\n",
        "      df[\"tfidf-doc\"+str(i+1)] = tfidf\n",
        "      \n",
        "\n",
        "    df = df.sort_index()\n",
        "    return df\n",
        "  \n",
        "  def __load_corpus(self):\n",
        "    \"\"\"Loads text data from the disk into corpus list.\n",
        "    This function is not visible to user.    \n",
        "    \"\"\"\n",
        "    Document = collections.namedtuple('doc', 'doc_id title author')\n",
        "    try:\n",
        "      for line in fileinput.input(self.corpus_file_path):\n",
        "          doc_id, title, author = line.split('\\t') #line.lower().split('\\t')\n",
        "          doc = Document(doc_id=doc_id.replace('\\ufeff',\"\"), \n",
        "                         title=title, \n",
        "                         author=author.strip())\n",
        "          self.__corpus.append(doc)\n",
        "    finally:\n",
        "      fileinput.close()\n",
        "\n",
        "  def __compute_solution(self):\n",
        "    \"\"\"Calculates tfidf-matrix. \n",
        "    This function is to be called by __init__ at object creation time.\n",
        "    Not visible to user.\n",
        "    Computes two important components of the solution:\n",
        "      tf_matrix: a numpy sparse matrix of unique words (voc) and their frequencies (tf) in respective documents. shape (doc_count, voc_count)\n",
        "      tf_idf_matrix:   a numpy matrix of unique words (voc) and their tf*idf in respective documents. shape (doc_count, voc_count)\n",
        "    \"\"\"\n",
        "    self.__load_corpus()\n",
        "    # transform corpus into tf_matrix (doc_count, voc_count)\n",
        "    self.tf_matrix = self.tf_counter.fit_transform([doc.title + ' ' + doc.author for doc in self.__corpus])\n",
        "    # transform tf_matrix into tfidf matrix\n",
        "    self.tfidf_transformer.fit(self.tf_matrix)\n",
        "    self.tf_idf_matrix = self.tfidf_transformer.transform(self.tf_matrix)\n",
        "\n",
        "# change the corpus_file_path to actual file name/path if its different\n",
        "tfidfRetriever = TfidfRetriever(corpus_file_path=\"small_test.txt\")"
      ],
      "execution_count": null,
      "outputs": []
    },
    {
      "cell_type": "markdown",
      "metadata": {
        "id": "1QUhmLTETriU"
      },
      "source": [
        "## Test\n",
        "input query to the box and ctl+enter"
      ]
    },
    {
      "cell_type": "code",
      "metadata": {
        "id": "zXyO76Vyhb1L",
        "colab": {
          "base_uri": "https://localhost:8080/",
          "height": 54
        },
        "outputId": "286a157a-ad23-444f-b9e7-83c641de1ca9"
      },
      "source": [
        "query = 'horse show how to eats cucumber' #@param {type:\"string\"}\n",
        "tfidfRetriever.find_similar_docs(query)"
      ],
      "execution_count": null,
      "outputs": [
        {
          "output_type": "execute_result",
          "data": {
            "text/plain": [
              "['score:5.733495, id:1, title: horse and cattle show, author: Ace',\n",
              " 'score:2.866747, id:2, title: cucumber gows in winter, author: Ben']"
            ]
          },
          "metadata": {
            "tags": []
          },
          "execution_count": 12
        }
      ]
    },
    {
      "cell_type": "code",
      "metadata": {
        "id": "5cZoeSi0k94q",
        "colab": {
          "base_uri": "https://localhost:8080/",
          "height": 348
        },
        "outputId": "060bc97b-24b6-4877-c97d-db2288fa6b6b"
      },
      "source": [
        "tfidfRetriever.to_df()"
      ],
      "execution_count": null,
      "outputs": [
        {
          "output_type": "execute_result",
          "data": {
            "text/html": [
              "<div>\n",
              "<style scoped>\n",
              "    .dataframe tbody tr th:only-of-type {\n",
              "        vertical-align: middle;\n",
              "    }\n",
              "\n",
              "    .dataframe tbody tr th {\n",
              "        vertical-align: top;\n",
              "    }\n",
              "\n",
              "    .dataframe thead th {\n",
              "        text-align: right;\n",
              "    }\n",
              "</style>\n",
              "<table border=\"1\" class=\"dataframe\">\n",
              "  <thead>\n",
              "    <tr style=\"text-align: right;\">\n",
              "      <th></th>\n",
              "      <th>idf</th>\n",
              "      <th>tf-doc1</th>\n",
              "      <th>tfidf-doc1</th>\n",
              "      <th>tf-doc2</th>\n",
              "      <th>tfidf-doc2</th>\n",
              "    </tr>\n",
              "  </thead>\n",
              "  <tbody>\n",
              "    <tr>\n",
              "      <th>ace</th>\n",
              "      <td>1.693147</td>\n",
              "      <td>1</td>\n",
              "      <td>1.693147</td>\n",
              "      <td>0</td>\n",
              "      <td>0.000000</td>\n",
              "    </tr>\n",
              "    <tr>\n",
              "      <th>and</th>\n",
              "      <td>1.693147</td>\n",
              "      <td>1</td>\n",
              "      <td>1.693147</td>\n",
              "      <td>0</td>\n",
              "      <td>0.000000</td>\n",
              "    </tr>\n",
              "    <tr>\n",
              "      <th>ben</th>\n",
              "      <td>1.693147</td>\n",
              "      <td>0</td>\n",
              "      <td>0.000000</td>\n",
              "      <td>1</td>\n",
              "      <td>1.693147</td>\n",
              "    </tr>\n",
              "    <tr>\n",
              "      <th>cattle</th>\n",
              "      <td>1.693147</td>\n",
              "      <td>1</td>\n",
              "      <td>1.693147</td>\n",
              "      <td>0</td>\n",
              "      <td>0.000000</td>\n",
              "    </tr>\n",
              "    <tr>\n",
              "      <th>cucumber</th>\n",
              "      <td>1.693147</td>\n",
              "      <td>0</td>\n",
              "      <td>0.000000</td>\n",
              "      <td>1</td>\n",
              "      <td>1.693147</td>\n",
              "    </tr>\n",
              "    <tr>\n",
              "      <th>gows</th>\n",
              "      <td>1.693147</td>\n",
              "      <td>0</td>\n",
              "      <td>0.000000</td>\n",
              "      <td>1</td>\n",
              "      <td>1.693147</td>\n",
              "    </tr>\n",
              "    <tr>\n",
              "      <th>horse</th>\n",
              "      <td>1.693147</td>\n",
              "      <td>1</td>\n",
              "      <td>1.693147</td>\n",
              "      <td>0</td>\n",
              "      <td>0.000000</td>\n",
              "    </tr>\n",
              "    <tr>\n",
              "      <th>in</th>\n",
              "      <td>1.693147</td>\n",
              "      <td>0</td>\n",
              "      <td>0.000000</td>\n",
              "      <td>1</td>\n",
              "      <td>1.693147</td>\n",
              "    </tr>\n",
              "    <tr>\n",
              "      <th>show</th>\n",
              "      <td>1.693147</td>\n",
              "      <td>1</td>\n",
              "      <td>1.693147</td>\n",
              "      <td>0</td>\n",
              "      <td>0.000000</td>\n",
              "    </tr>\n",
              "    <tr>\n",
              "      <th>winter</th>\n",
              "      <td>1.693147</td>\n",
              "      <td>0</td>\n",
              "      <td>0.000000</td>\n",
              "      <td>1</td>\n",
              "      <td>1.693147</td>\n",
              "    </tr>\n",
              "  </tbody>\n",
              "</table>\n",
              "</div>"
            ],
            "text/plain": [
              "               idf  tf-doc1  tfidf-doc1  tf-doc2  tfidf-doc2\n",
              "ace       1.693147        1    1.693147        0    0.000000\n",
              "and       1.693147        1    1.693147        0    0.000000\n",
              "ben       1.693147        0    0.000000        1    1.693147\n",
              "cattle    1.693147        1    1.693147        0    0.000000\n",
              "cucumber  1.693147        0    0.000000        1    1.693147\n",
              "gows      1.693147        0    0.000000        1    1.693147\n",
              "horse     1.693147        1    1.693147        0    0.000000\n",
              "in        1.693147        0    0.000000        1    1.693147\n",
              "show      1.693147        1    1.693147        0    0.000000\n",
              "winter    1.693147        0    0.000000        1    1.693147"
            ]
          },
          "metadata": {
            "tags": []
          },
          "execution_count": 7
        }
      ]
    },
    {
      "cell_type": "markdown",
      "metadata": {
        "id": "38RA0L92TvKu"
      },
      "source": [
        "# Retrieval Class 2 (using numpy)"
      ]
    },
    {
      "cell_type": "code",
      "metadata": {
        "id": "CA6vDNPExNuR"
      },
      "source": [
        "import pandas as pd\n",
        "import numpy as np\n",
        "import fileinput, collections\n",
        "from collections import OrderedDict\n",
        "import re\n",
        "\n",
        "class TfidfRetrieverUzair(object):\n",
        "  \"\"\"TfidfRetriever class\n",
        "\n",
        "  Usage:\n",
        "  tfidfRetriever = TfidfRetriever(corpus_file_path=\"corpus.txt\")\n",
        "  tfidfRetriever.find_similar_docs('test text')\n",
        "\n",
        "  a list of relevant documents in corpus.txt will be returned.\n",
        "  Aurhor: Uzair Ahmad\n",
        "  \"\"\"\n",
        "  def __init__(self, corpus_file_path):\n",
        "    \"\"\"Initialize TfidfRetriever object and computes the tfidf-matrix.\n",
        "\n",
        "    Parameters\n",
        "    ----------\n",
        "    corpus_file_path : str\n",
        "        The file location of the corpus\n",
        "\n",
        "    Returns\n",
        "    -------\n",
        "    list\n",
        "        an object of TfidfRetriever\n",
        "    \"\"\"\n",
        "    self.corpus_file_path = corpus_file_path\n",
        "    self.__corpus = []\n",
        "    self.__compute_solution()\n",
        "\n",
        "  def find_similar_docs(self, text, top_n=10):\n",
        "    \"\"\"Vectorize input text and calculates dot-product similarity to the pre-calculated tfidf-matrix.\n",
        "    This function is visible to user.\n",
        "\n",
        "    Parameters\n",
        "    ----------\n",
        "    text : str\n",
        "        text to be searched in the corpus for similar texts\n",
        "    top_n : int\n",
        "        top n similar documents, default is 10.\n",
        "    Returns\n",
        "    -------\n",
        "    list\n",
        "        a list of similar texts in the corpus\n",
        "    \"\"\"\n",
        "    tfidf_vector = np.zeros(shape=(len(self.unique_words), 1))\n",
        "    for t in text.split(): # text.lower().split()\n",
        "      if t in self.unique_words.keys():\n",
        "        tfidf_vector[list(self.unique_words).index(t)] = self.unique_words[t]['tidf']\n",
        "    # dot-product similarity\n",
        "    dot_product_sim = np.squeeze(self.tfidf_matrix.T.dot(tfidf_vector))\n",
        "    # index of top_n (inverted tail of argsort) in descending order\n",
        "    dot_product_sim_desc_order = np.argsort(dot_product_sim)[-top_n:][::-1] \n",
        "    # prepare list of docs corresponding top_n ordered indexes\n",
        "    return ['score:{0}, id:{1}, title: {2}, author: {3}'.format(\n",
        "        np.round(dot_product_sim[i],6), \n",
        "        self.__corpus[i].doc_id, \n",
        "        self.__corpus[i].title, \n",
        "        self.__corpus[i].author) for i in dot_product_sim_desc_order] \n",
        "  # \n",
        "  def to_df(self):\n",
        "    \"\"\"Prepares a pandas DataFrame from the pre-calculated tfidf-matrix. \n",
        "    Good for visual verification for small corpus.\n",
        "    This function is visible to user.\n",
        "\n",
        "    Parameters\n",
        "    ----------\n",
        "    \n",
        "    Returns\n",
        "    -------\n",
        "    Pandas DataFrame\n",
        "        a dataframe with unique words (vocabulary) as index. \n",
        "        First column is idf of each word. \n",
        "        Rest of the columns correspond to individual documents in the corpus.\n",
        "    \"\"\"\n",
        "    # tf_matrix, tf_idf_matrix = __compute_solution(self)\n",
        "    df = pd.DataFrame(data=self.tfidf_matrix, \n",
        "                      index=self.unique_words.keys(), \n",
        "                      columns=['tfidf-doc'+str(i+1) for i in range(len(self.__corpus))]).sort_index()\n",
        "    return df\n",
        "\n",
        "  def __load_corpus(self):\n",
        "    \"\"\"Loads text data from the disk into corpus list.\n",
        "    This function is not visible to user.    \n",
        "    \"\"\"\n",
        "    Document = collections.namedtuple('doc', 'doc_id title author')\n",
        "    try:\n",
        "      for line in fileinput.input(self.corpus_file_path):\n",
        "          doc_id, title, author = line.split('\\t') #line.lower().split('\\t')\n",
        "          doc = Document(doc_id=doc_id.replace('\\ufeff',\"\"), \n",
        "                         title=re.sub('[^0-9a-zA-Z\\s]+', ' ', title), \n",
        "                         author=re.sub('[^0-9a-zA-Z\\s]+', ' ', author).strip())\n",
        "          self.__corpus.append(doc)\n",
        "    finally:\n",
        "      fileinput.close()\n",
        "\n",
        "  def __compute_solution(self):\n",
        "    self.__load_corpus()\n",
        "    # word freq in each doc\n",
        "    # unique_words and doc_ids where they appear\n",
        "    tf_in_docs = {}   # word freq in each doc\n",
        "    self.unique_words = {} # unique_words and doc_ids where they appear\n",
        "    for doc in self.__corpus:\n",
        "      tf = {}\n",
        "      for t in '{0} {1}'.format(doc.title, doc.author).split():\n",
        "        if len(t) < 1:\n",
        "          continue\n",
        "        if t not in self.unique_words.keys():\n",
        "          self.unique_words[t] = {\"doc_ids\":1}#{\"doc_ids\":[doc.doc_id]}\n",
        "        else:\n",
        "          self.unique_words[t][\"doc_ids\"] += 1 #[\"doc_ids\"].append(doc.doc_id)\n",
        "        if t not in tf.keys():\n",
        "          tf[t] = 1\n",
        "        else:\n",
        "          tf[t] += 1\n",
        "      tf_in_docs[doc.doc_id] = tf\n",
        "\n",
        "    for t_id, t in enumerate(self.unique_words.keys()):\n",
        "      # calc tidf\n",
        "      #self.unique_words[t]['tidf'] = np.log(len(self.__corpus) / (len(self.unique_words[t]['doc_ids'])))+1\n",
        "      self.unique_words[t]['tidf'] = np.log(len(self.__corpus) / self.unique_words[t]['doc_ids'])+1\n",
        "\n",
        "    \n",
        "    self.tfidf_matrix = np.zeros(shape=(len(self.unique_words.keys()), len(self.__corpus)))\n",
        "    for doc_id, doc in enumerate(self.__corpus):\n",
        "      for t in '{0} {1}'.format(doc.title, doc.author).split():\n",
        "        tfidf = self.unique_words[t]['tidf'] * tf_in_docs[doc.doc_id][t]\n",
        "        self.tfidf_matrix[list(self.unique_words).index(t), doc_id] = tfidf\n",
        "# change the corpus_file_path to actual file name/path if its different\n",
        "tfidfRetrieverUzi = TfidfRetrieverUzair(corpus_file_path=\"title_author.tab (4).txt\") #\"title_author.tab (3).txt\""
      ],
      "execution_count": 54,
      "outputs": []
    },
    {
      "cell_type": "markdown",
      "metadata": {
        "id": "IvQN0AnbL8Ln"
      },
      "source": [
        "## Test\n",
        "input query to the box and ctl+enter"
      ]
    },
    {
      "cell_type": "code",
      "metadata": {
        "id": "WwagSN1pMBfI",
        "colab": {
          "base_uri": "https://localhost:8080/"
        },
        "outputId": "e8561862-0529-4e9b-9328-03a2e563ed0f"
      },
      "source": [
        "test_text = 'Network Engineer' #@param {type:\"string\"}\n",
        "tfidfRetrieverUzi.find_similar_docs(test_text)"
      ],
      "execution_count": 59,
      "outputs": [
        {
          "output_type": "execute_result",
          "data": {
            "text/plain": [
              "['score:40.439409, id:26, title:  Cisco  DNS  HTTP  Networking  Network Engineer  Security  Video  VPN  Wireless , author: Network Engineer',\n",
              " 'score:20.219705, id:30, title:  Firewalls  load balancing  routing  switching  cable modems  wireless , author: Network Engineer',\n",
              " 'score:7.723086, id:43, title:  Altera  Assembly  CCA  Circuit  Defense Systems  Development  Electrical Engineer  Flash  Graphics  Hardware  HTTP  Materials  Matlab  Release  Security  Simulation  Testing , author: Engineer Electronics 4',\n",
              " 'score:7.723086, id:60, title: GSC ITS   Lead Data Engineer, author: GSC ITS   Lead Data Engineer',\n",
              " 'score:7.723086, id:58, title: QA Performance Engineer Beanshell C a must, author: QA Performance Engineer Beanshell C a must',\n",
              " 'score:7.723086, id:17, title: Desktop Support Workstation Engineer, author: Desktop Support Workstation Engineer',\n",
              " 'score:7.723086, id:53, title: Sr  Lab Systems Engineer, author: Sr  Lab Systems Engineer',\n",
              " 'score:7.723086, id:48, title: Sr  Software Development Engineer    OPC RET , author: Sr  Software Development Engineer    OPC RET',\n",
              " 'score:3.861543, id:32, title: Windows Desktop Support Active Directory, author: Windows Desktop Support Engineer   SJ',\n",
              " 'score:3.861543, id:35, title:  Expert knowledge of libavcodec  libavformat etc required , author: Video Process Engineer']"
            ]
          },
          "metadata": {
            "tags": []
          },
          "execution_count": 59
        }
      ]
    }
  ]
}